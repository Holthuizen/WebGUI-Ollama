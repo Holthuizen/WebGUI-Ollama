{
 "cells": [
  {
   "cell_type": "code",
   "execution_count": 6,
   "metadata": {},
   "outputs": [
    {
     "name": "stdout",
     "output_type": "stream",
     "text": [
      " * Serving Flask app '__main__'\n",
      " * Debug mode: on\n"
     ]
    },
    {
     "name": "stderr",
     "output_type": "stream",
     "text": [
      "\u001b[31m\u001b[1mWARNING: This is a development server. Do not use it in a production deployment. Use a production WSGI server instead.\u001b[0m\n",
      " * Running on http://127.0.0.1:5000\n",
      "\u001b[33mPress CTRL+C to quit\u001b[0m\n",
      " * Restarting with stat\n",
      "Traceback (most recent call last):\n",
      "  File \"<frozen runpy>\", line 198, in _run_module_as_main\n",
      "  File \"<frozen runpy>\", line 88, in _run_code\n",
      "  File \"/Users/carlos/Desktop/Apple Coding /ollama_webui/.venv/lib/python3.13/site-packages/ipykernel_launcher.py\", line 18, in <module>\n",
      "    app.launch_new_instance()\n",
      "    ~~~~~~~~~~~~~~~~~~~~~~~^^\n",
      "  File \"/Users/carlos/Desktop/Apple Coding /ollama_webui/.venv/lib/python3.13/site-packages/traitlets/config/application.py\", line 1074, in launch_instance\n",
      "    app.initialize(argv)\n",
      "    ~~~~~~~~~~~~~~^^^^^^\n",
      "  File \"/Users/carlos/Desktop/Apple Coding /ollama_webui/.venv/lib/python3.13/site-packages/traitlets/config/application.py\", line 118, in inner\n",
      "    return method(app, *args, **kwargs)\n",
      "  File \"/Users/carlos/Desktop/Apple Coding /ollama_webui/.venv/lib/python3.13/site-packages/ipykernel/kernelapp.py\", line 692, in initialize\n",
      "    self.init_sockets()\n",
      "    ~~~~~~~~~~~~~~~~~^^\n",
      "  File \"/Users/carlos/Desktop/Apple Coding /ollama_webui/.venv/lib/python3.13/site-packages/ipykernel/kernelapp.py\", line 331, in init_sockets\n",
      "    self.shell_port = self._bind_socket(self.shell_socket, self.shell_port)\n",
      "                      ~~~~~~~~~~~~~~~~~^^^^^^^^^^^^^^^^^^^^^^^^^^^^^^^^^^^^\n",
      "  File \"/Users/carlos/Desktop/Apple Coding /ollama_webui/.venv/lib/python3.13/site-packages/ipykernel/kernelapp.py\", line 253, in _bind_socket\n",
      "    return self._try_bind_socket(s, port)\n",
      "           ~~~~~~~~~~~~~~~~~~~~~^^^^^^^^^\n",
      "  File \"/Users/carlos/Desktop/Apple Coding /ollama_webui/.venv/lib/python3.13/site-packages/ipykernel/kernelapp.py\", line 229, in _try_bind_socket\n",
      "    s.bind(\"tcp://%s:%i\" % (self.ip, port))\n",
      "    ~~~~~~^^^^^^^^^^^^^^^^^^^^^^^^^^^^^^^^^\n",
      "  File \"/Users/carlos/Desktop/Apple Coding /ollama_webui/.venv/lib/python3.13/site-packages/zmq/sugar/socket.py\", line 317, in bind\n",
      "    super().bind(addr)\n",
      "    ~~~~~~~~~~~~^^^^^^\n",
      "  File \"_zmq.py\", line 917, in zmq.backend.cython._zmq.Socket.bind\n",
      "  File \"_zmq.py\", line 179, in zmq.backend.cython._zmq._check_rc\n",
      "zmq.error.ZMQError: Address already in use (addr='tcp://127.0.0.1:9018')\n"
     ]
    },
    {
     "ename": "SystemExit",
     "evalue": "1",
     "output_type": "error",
     "traceback": [
      "An exception has occurred, use %tb to see the full traceback.\n",
      "\u001b[0;31mSystemExit\u001b[0m\u001b[0;31m:\u001b[0m 1\n"
     ]
    }
   ],
   "source": []
  },
  {
   "cell_type": "code",
   "execution_count": 5,
   "metadata": {},
   "outputs": [
    {
     "name": "stdout",
     "output_type": "stream",
     "text": [
      " * Serving Flask app '__main__'\n",
      " * Debug mode: on\n"
     ]
    },
    {
     "name": "stderr",
     "output_type": "stream",
     "text": [
      "\u001b[31m\u001b[1mWARNING: This is a development server. Do not use it in a production deployment. Use a production WSGI server instead.\u001b[0m\n",
      " * Running on http://127.0.0.1:5000\n",
      "\u001b[33mPress CTRL+C to quit\u001b[0m\n",
      " * Restarting with stat\n",
      "Traceback (most recent call last):\n",
      "  File \"<frozen runpy>\", line 198, in _run_module_as_main\n",
      "  File \"<frozen runpy>\", line 88, in _run_code\n",
      "  File \"/Users/carlos/Desktop/Apple Coding /ollama_webui/.venv/lib/python3.13/site-packages/ipykernel_launcher.py\", line 18, in <module>\n",
      "    app.launch_new_instance()\n",
      "    ~~~~~~~~~~~~~~~~~~~~~~~^^\n",
      "  File \"/Users/carlos/Desktop/Apple Coding /ollama_webui/.venv/lib/python3.13/site-packages/traitlets/config/application.py\", line 1074, in launch_instance\n",
      "    app.initialize(argv)\n",
      "    ~~~~~~~~~~~~~~^^^^^^\n",
      "  File \"/Users/carlos/Desktop/Apple Coding /ollama_webui/.venv/lib/python3.13/site-packages/traitlets/config/application.py\", line 118, in inner\n",
      "    return method(app, *args, **kwargs)\n",
      "  File \"/Users/carlos/Desktop/Apple Coding /ollama_webui/.venv/lib/python3.13/site-packages/ipykernel/kernelapp.py\", line 692, in initialize\n",
      "    self.init_sockets()\n",
      "    ~~~~~~~~~~~~~~~~~^^\n",
      "  File \"/Users/carlos/Desktop/Apple Coding /ollama_webui/.venv/lib/python3.13/site-packages/ipykernel/kernelapp.py\", line 331, in init_sockets\n",
      "    self.shell_port = self._bind_socket(self.shell_socket, self.shell_port)\n",
      "                      ~~~~~~~~~~~~~~~~~^^^^^^^^^^^^^^^^^^^^^^^^^^^^^^^^^^^^\n",
      "  File \"/Users/carlos/Desktop/Apple Coding /ollama_webui/.venv/lib/python3.13/site-packages/ipykernel/kernelapp.py\", line 253, in _bind_socket\n",
      "    return self._try_bind_socket(s, port)\n",
      "           ~~~~~~~~~~~~~~~~~~~~~^^^^^^^^^\n",
      "  File \"/Users/carlos/Desktop/Apple Coding /ollama_webui/.venv/lib/python3.13/site-packages/ipykernel/kernelapp.py\", line 229, in _try_bind_socket\n",
      "    s.bind(\"tcp://%s:%i\" % (self.ip, port))\n",
      "    ~~~~~~^^^^^^^^^^^^^^^^^^^^^^^^^^^^^^^^^\n",
      "  File \"/Users/carlos/Desktop/Apple Coding /ollama_webui/.venv/lib/python3.13/site-packages/zmq/sugar/socket.py\", line 317, in bind\n",
      "    super().bind(addr)\n",
      "    ~~~~~~~~~~~~^^^^^^\n",
      "  File \"_zmq.py\", line 917, in zmq.backend.cython._zmq.Socket.bind\n",
      "  File \"_zmq.py\", line 179, in zmq.backend.cython._zmq._check_rc\n",
      "zmq.error.ZMQError: Address already in use (addr='tcp://127.0.0.1:9018')\n"
     ]
    },
    {
     "ename": "SystemExit",
     "evalue": "1",
     "output_type": "error",
     "traceback": [
      "An exception has occurred, use %tb to see the full traceback.\n",
      "\u001b[0;31mSystemExit\u001b[0m\u001b[0;31m:\u001b[0m 1\n"
     ]
    }
   ],
   "source": [
    "# from flask import Flask, render_template, request, jsonify\n",
    "# import requests\n",
    "\n",
    "# app = Flask(__name__)\n",
    "# OLLAMA_API_URL = \"http://localhost:11434/api/chat\"  # Update if needed\n",
    "\n",
    "# @app.route('/')\n",
    "# def index():\n",
    "#     return render_template('index.html')\n",
    "\n",
    "# @app.route('/chat', methods=['POST'])\n",
    "# def chat():\n",
    "#     data = {\n",
    "#     \"model\": \"llama3.2\",\n",
    "#     \"messages\": [\n",
    "#         {\"role\": \"user\", \"content\": \"why is the sky blue?\"}\n",
    "#     ],\n",
    "#     \"stream\": False\n",
    "#     }\n",
    "#     headers = {\"Content-Type\": \"application/json\"}  \n",
    "#     response = requests.post(url=OLLAMA_API_URL, data=data, headers=headers)\n",
    "#     #render this in html somewhere\n",
    "\n",
    "# app.run(debug=True)\n",
    "\n",
    "# # if __name__ == '__main__':\n",
    "# #     app.run(debug=True)\n",
    "\n",
    "# \"\"\"\n",
    "# curl http://localhost:11434/api/chat -d '{\n",
    "#   \"model\": \"llama3.2\",\n",
    "#   \"messages\": [\n",
    "#     {\n",
    "#       \"role\": \"user\",\n",
    "#       \"content\": \"why is the sky blue?\"\n",
    "#     }\n",
    "#   ],\n",
    "#   \"stream\": false\n",
    "# }'\n",
    "# \"\"\"\n",
    "# #response \n",
    "# \"\"\"\n",
    "# {\n",
    "#   \"model\": \"llama3.2\",\n",
    "#   \"created_at\": \"2023-12-12T14:13:43.416799Z\",\n",
    "#   \"message\": {\n",
    "#     \"role\": \"assistant\",\n",
    "#     \"content\": \"Hello! How are you today?\"\n",
    "#   },\n",
    "#   \"done\": true,\n",
    "#   \"total_duration\": 5191566416,\n",
    "#   \"load_duration\": 2154458,\n",
    "#   \"prompt_eval_count\": 26,\n",
    "#   \"prompt_eval_duration\": 383809000,\n",
    "#   \"eval_count\": 298,\n",
    "#   \"eval_duration\": 4799921000\n",
    "# }\n",
    "# \"\"\""
   ]
  },
  {
   "cell_type": "code",
   "execution_count": null,
   "metadata": {},
   "outputs": [],
   "source": []
  }
 ],
 "metadata": {
  "kernelspec": {
   "display_name": ".venv",
   "language": "python",
   "name": "python3"
  },
  "language_info": {
   "codemirror_mode": {
    "name": "ipython",
    "version": 3
   },
   "file_extension": ".py",
   "mimetype": "text/x-python",
   "name": "python",
   "nbconvert_exporter": "python",
   "pygments_lexer": "ipython3",
   "version": "3.13.0"
  }
 },
 "nbformat": 4,
 "nbformat_minor": 2
}
